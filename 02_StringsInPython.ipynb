{
  "nbformat": 4,
  "nbformat_minor": 0,
  "metadata": {
    "colab": {
      "name": "02_StringsInPython.ipynb",
      "provenance": [],
      "include_colab_link": true
    },
    "kernelspec": {
      "name": "python3",
      "display_name": "Python 3"
    }
  },
  "cells": [
    {
      "cell_type": "markdown",
      "metadata": {
        "id": "view-in-github",
        "colab_type": "text"
      },
      "source": [
        "<a href=\"https://colab.research.google.com/github/majaturkalj/GCU_Exercises_new/blob/main/02_StringsInPython.ipynb\" target=\"_parent\"><img src=\"https://colab.research.google.com/assets/colab-badge.svg\" alt=\"Open In Colab\"/></a>"
      ]
    },
    {
      "cell_type": "markdown",
      "metadata": {
        "id": "NC3W0CFoxzlY"
      },
      "source": [
        "# Strings in python"
      ]
    },
    {
      "cell_type": "markdown",
      "metadata": {
        "id": "3U9MEADW3Xvn"
      },
      "source": [
        ""
      ]
    },
    {
      "cell_type": "markdown",
      "metadata": {
        "id": "oHAUFVByyEUM"
      },
      "source": [
        "## By looking at the formatting in the text betweeen these two cells what do you notice?"
      ]
    },
    {
      "cell_type": "markdown",
      "metadata": {
        "id": "8vnixL4OyOgu"
      },
      "source": [
        "Ok....back to strings.....lets make our first string!"
      ]
    },
    {
      "cell_type": "code",
      "metadata": {
        "id": "lkSlNUmSxuzz",
        "outputId": "8525796f-e2a0-48cf-cece-37c2e2609681",
        "colab": {
          "base_uri": "https://localhost:8080/",
          "height": 37
        }
      },
      "source": [
        "my_string = 'Hello World!'\n",
        "my_string"
      ],
      "execution_count": null,
      "outputs": [
        {
          "output_type": "execute_result",
          "data": {
            "application/vnd.google.colaboratory.intrinsic+json": {
              "type": "string"
            },
            "text/plain": [
              "'Hello World!'"
            ]
          },
          "metadata": {
            "tags": []
          },
          "execution_count": 4
        }
      ]
    },
    {
      "cell_type": "markdown",
      "metadata": {
        "id": "0Vgq9gMByc2Z"
      },
      "source": [
        "Strings in python are arrays like in other languages, where the first index of the string is index 0. Thus we can access individual characters in the string as follows:\n",
        "\n",
        "---\n",
        "\n"
      ]
    },
    {
      "cell_type": "code",
      "metadata": {
        "id": "hUSfDjiXxi4V",
        "outputId": "90b2333e-a5b9-470b-beb4-a0938a029007",
        "colab": {
          "base_uri": "https://localhost:8080/",
          "height": 37
        }
      },
      "source": [
        "my_string[0]"
      ],
      "execution_count": null,
      "outputs": [
        {
          "output_type": "execute_result",
          "data": {
            "application/vnd.google.colaboratory.intrinsic+json": {
              "type": "string"
            },
            "text/plain": [
              "'H'"
            ]
          },
          "metadata": {
            "tags": []
          },
          "execution_count": 5
        }
      ]
    },
    {
      "cell_type": "markdown",
      "metadata": {
        "id": "_O_YkQw_zTz6"
      },
      "source": [
        "Trying picking out the 4th character in the code section below:"
      ]
    },
    {
      "cell_type": "code",
      "metadata": {
        "id": "qK0QoZn7zaAd",
        "colab": {
          "base_uri": "https://localhost:8080/",
          "height": 35
        },
        "outputId": "27dcabca-9a3b-4cb8-8440-9ae9a721ad51"
      },
      "source": [
        "my_string = 'Hello World!'\n",
        "my_string[3]"
      ],
      "execution_count": 1,
      "outputs": [
        {
          "output_type": "execute_result",
          "data": {
            "text/plain": [
              "'l'"
            ],
            "application/vnd.google.colaboratory.intrinsic+json": {
              "type": "string"
            }
          },
          "metadata": {},
          "execution_count": 1
        }
      ]
    },
    {
      "cell_type": "markdown",
      "metadata": {
        "id": "VeboIME-zQ3O"
      },
      "source": [
        "We can also pick out the last character using -1"
      ]
    },
    {
      "cell_type": "code",
      "metadata": {
        "id": "uw3Ote83zQan",
        "outputId": "f66cfa6e-8816-4ea8-90c7-172858e98f37",
        "colab": {
          "base_uri": "https://localhost:8080/",
          "height": 37
        }
      },
      "source": [
        "my_string[-1]"
      ],
      "execution_count": null,
      "outputs": [
        {
          "output_type": "execute_result",
          "data": {
            "application/vnd.google.colaboratory.intrinsic+json": {
              "type": "string"
            },
            "text/plain": [
              "'!'"
            ]
          },
          "metadata": {
            "tags": []
          },
          "execution_count": 6
        }
      ]
    },
    {
      "cell_type": "markdown",
      "metadata": {
        "id": "HzGOBApCytRi"
      },
      "source": [
        "Using a concept called slicing we can pick sections from a string. This uses the following notation\n",
        "\n",
        "string[start:end]\n",
        "\n",
        "Note: end is not included.\n",
        "\n",
        "Lets look at this.\n",
        "\n"
      ]
    },
    {
      "cell_type": "code",
      "metadata": {
        "id": "8mhZt-DNyAvo",
        "outputId": "ccad7dd5-44fb-4042-86b3-6b82665f41f3",
        "colab": {
          "base_uri": "https://localhost:8080/",
          "height": 37
        }
      },
      "source": [
        "my_string[0:4]"
      ],
      "execution_count": null,
      "outputs": [
        {
          "output_type": "execute_result",
          "data": {
            "application/vnd.google.colaboratory.intrinsic+json": {
              "type": "string"
            },
            "text/plain": [
              "'Hell'"
            ]
          },
          "metadata": {
            "tags": []
          },
          "execution_count": 7
        }
      ]
    },
    {
      "cell_type": "markdown",
      "metadata": {
        "id": "hEA_xIqzz5wz"
      },
      "source": [
        "How do we update the above to extract the word Hello using slicing? Write this in the code section below:"
      ]
    },
    {
      "cell_type": "code",
      "metadata": {
        "id": "2-5t9jr9z_Vv",
        "colab": {
          "base_uri": "https://localhost:8080/",
          "height": 35
        },
        "outputId": "f2bb2b27-b300-4952-fa62-5308d896ead8"
      },
      "source": [
        "my_string = 'Hello World!'\n",
        "my_string[0:5]"
      ],
      "execution_count": 2,
      "outputs": [
        {
          "output_type": "execute_result",
          "data": {
            "text/plain": [
              "'Hello'"
            ],
            "application/vnd.google.colaboratory.intrinsic+json": {
              "type": "string"
            }
          },
          "metadata": {},
          "execution_count": 2
        }
      ]
    },
    {
      "cell_type": "markdown",
      "metadata": {
        "id": "BHcVqOWR0RkD"
      },
      "source": [
        "Let's look at a long string, a quote by the Joker in the original Tim Burton move Batman."
      ]
    },
    {
      "cell_type": "code",
      "metadata": {
        "id": "2fQSESsz0VLH",
        "outputId": "f7d31266-05fa-4f88-9e24-17efd5a78296",
        "colab": {
          "base_uri": "https://localhost:8080/",
          "height": 54
        }
      },
      "source": [
        "quote = 'Tell me, have you ever danced with the devil in the pale moonlight, I always ask that of all my prey, I just like the sound of it!'\n",
        "quote"
      ],
      "execution_count": null,
      "outputs": [
        {
          "output_type": "execute_result",
          "data": {
            "application/vnd.google.colaboratory.intrinsic+json": {
              "type": "string"
            },
            "text/plain": [
              "'Tell me, have you ever danced with the devil in the pale moonlight, I always ask that of all my prey, I just like the sound of it!'"
            ]
          },
          "metadata": {
            "tags": []
          },
          "execution_count": 9
        }
      ]
    },
    {
      "cell_type": "markdown",
      "metadata": {
        "id": "4iateKRx0eA6"
      },
      "source": [
        "Python is an object oriented thus strings are objects which have their own associated methods that allow you to obtain additional information about the string and to perform operations upon the string. \n",
        "\n",
        "We can for example count the number of occurences of a letter in a string."
      ]
    },
    {
      "cell_type": "code",
      "source": [
        ""
      ],
      "metadata": {
        "id": "naJeszq0bRWk"
      },
      "execution_count": null,
      "outputs": []
    },
    {
      "cell_type": "code",
      "metadata": {
        "outputId": "95d668b7-848b-4d34-adf3-9ddf3b2b3ff4",
        "colab": {
          "base_uri": "https://localhost:8080/",
          "height": 35
        },
        "id": "PutZt2iKbVid"
      },
      "source": [
        "quote = 'Tell me, have you ever danced with the devil in the pale moonlight, I always ask that of all my prey, I just like the sound of it!'\n",
        "quote.count('e')\n",
        "len(quote)\n",
        "quote.find('devil')\n",
        "quote[39:39+len('devil')]\n",
        "quote.split()\n",
        "quote.strip()"
      ],
      "execution_count": 11,
      "outputs": [
        {
          "output_type": "execute_result",
          "data": {
            "text/plain": [
              "'Tell me, have you ever danced with the devil in the pale moonlight, I always ask that of all my prey, I just like the sound of it!'"
            ],
            "application/vnd.google.colaboratory.intrinsic+json": {
              "type": "string"
            }
          },
          "metadata": {},
          "execution_count": 11
        }
      ]
    },
    {
      "cell_type": "code",
      "metadata": {
        "id": "F_kLTNDQ0_zX"
      },
      "source": [
        "quote.count('e')"
      ],
      "execution_count": null,
      "outputs": []
    },
    {
      "cell_type": "markdown",
      "metadata": {
        "id": "MvYAf7wt1uuM"
      },
      "source": [
        "Python has in build functions for returning the length of arrays."
      ]
    },
    {
      "cell_type": "code",
      "metadata": {
        "id": "--s_r2Pr1140"
      },
      "source": [
        "len(quote)"
      ],
      "execution_count": null,
      "outputs": []
    },
    {
      "cell_type": "markdown",
      "metadata": {
        "id": "6Siji8dB2RV5"
      },
      "source": [
        "Describe what the following code blocks do."
      ]
    },
    {
      "cell_type": "code",
      "metadata": {
        "id": "1gjsDYWc2U7-"
      },
      "source": [
        "quote.find('devil')"
      ],
      "execution_count": null,
      "outputs": []
    },
    {
      "cell_type": "code",
      "metadata": {
        "id": "0stevtjr2WlZ"
      },
      "source": [
        "quote[39:39+len('devil')]"
      ],
      "execution_count": null,
      "outputs": []
    },
    {
      "cell_type": "code",
      "metadata": {
        "id": "tqiOoRDG2bFq"
      },
      "source": [
        "quote.split()"
      ],
      "execution_count": null,
      "outputs": []
    },
    {
      "cell_type": "markdown",
      "metadata": {
        "id": "gNBvwdj-2oPE"
      },
      "source": [
        "As strings are objects we can concatenate strings (put them together) easily as follows:"
      ]
    },
    {
      "cell_type": "code",
      "metadata": {
        "id": "j4R5kMhN2vS1"
      },
      "source": [
        "quote = '    ' + quote"
      ],
      "execution_count": null,
      "outputs": []
    },
    {
      "cell_type": "markdown",
      "metadata": {
        "id": "1rbg5m8r2wkS"
      },
      "source": [
        "We now want to get rid of the leading white space we just added."
      ]
    },
    {
      "cell_type": "code",
      "metadata": {
        "id": "ognXDPjI21un"
      },
      "source": [
        "quote.strip()"
      ],
      "execution_count": null,
      "outputs": []
    },
    {
      "cell_type": "markdown",
      "metadata": {
        "id": "0wmyE5Hl2_aP"
      },
      "source": [
        "It is important to note that all string methods return new values and do not change the original string. Detail what other string methods you can find. "
      ]
    },
    {
      "cell_type": "markdown",
      "metadata": {
        "id": "vH1sBZwa3OBh"
      },
      "source": [
        ""
      ]
    }
  ]
}