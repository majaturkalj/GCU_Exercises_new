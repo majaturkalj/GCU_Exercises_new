{
  "nbformat": 4,
  "nbformat_minor": 0,
  "metadata": {
    "colab": {
      "name": "01_WelcomeNotebook.ipynb",
      "provenance": [],
      "collapsed_sections": []
    },
    "kernelspec": {
      "name": "python3",
      "display_name": "Python 3"
    }
  },
  "cells": [
    {
      "cell_type": "markdown",
      "metadata": {
        "id": "PzEAw649YWnQ"
      },
      "source": [
        "### Welcome to Software For Data Science"
      ]
    },
    {
      "cell_type": "code",
      "metadata": {
        "id": "XWTvQwNeZHaq",
        "outputId": "caaf798b-648a-485c-b169-0a3d253dbfe3",
        "colab": {
          "base_uri": "https://localhost:8080/"
        }
      },
      "source": [
        "print(\"Welcome to Software for Data Science in code....\")\n",
        "seconds_in_a_day = 24 * 60 * 60\n",
        "seconds_in_a_day"
      ],
      "execution_count": null,
      "outputs": [
        {
          "output_type": "stream",
          "name": "stdout",
          "text": [
            "Welcome to Software for Data Science in code....\n"
          ]
        },
        {
          "output_type": "execute_result",
          "data": {
            "text/plain": [
              "86400"
            ]
          },
          "metadata": {},
          "execution_count": 1
        }
      ]
    },
    {
      "cell_type": "markdown",
      "metadata": {
        "id": "WZGjLTxnZcb_"
      },
      "source": [
        "Where have you seen this before?\n",
        "I think in the lectures"
      ]
    },
    {
      "cell_type": "code",
      "metadata": {
        "id": "5jDBXz4fZoxx",
        "outputId": "b336a765-d300-4614-c3b9-7a294375f961",
        "colab": {
          "base_uri": "https://localhost:8080/",
          "height": 34
        }
      },
      "source": [
        "seconds_in_a_week = 7 * seconds_in_a_day\n",
        "seconds_in_a_week"
      ],
      "execution_count": null,
      "outputs": [
        {
          "output_type": "execute_result",
          "data": {
            "text/plain": [
              "604800"
            ]
          },
          "metadata": {
            "tags": []
          },
          "execution_count": 9
        }
      ]
    },
    {
      "cell_type": "markdown",
      "metadata": {
        "id": "N_h-11H6evmj"
      },
      "source": [
        "Can you update the above to calculate the number of seconds in a year?"
      ]
    },
    {
      "cell_type": "code",
      "metadata": {
        "id": "YTDZX6IHe10E",
        "colab": {
          "base_uri": "https://localhost:8080/"
        },
        "outputId": "ec657c1a-5fc4-431d-e989-2f5967e2d539"
      },
      "source": [
        "seconds_in_a_day = 24 * 60 * 60\n",
        "seconds_in_a_week = 7 * seconds_in_a_day\n",
        "seconds_in_a_year = 52 * seconds_in_a_week\n",
        "seconds_in_a_year\n"
      ],
      "execution_count": 3,
      "outputs": [
        {
          "output_type": "execute_result",
          "data": {
            "text/plain": [
              "31449600"
            ]
          },
          "metadata": {},
          "execution_count": 3
        }
      ]
    },
    {
      "cell_type": "markdown",
      "metadata": {
        "id": "bzwc9VMleM9q"
      },
      "source": [
        "Lets create a simple function that returns the square of an input value"
      ]
    },
    {
      "cell_type": "code",
      "metadata": {
        "id": "ZPSsliK19H4Y"
      },
      "source": [
        "def square(foo):\n",
        "  return foo*foo\n"
      ],
      "execution_count": 4,
      "outputs": []
    },
    {
      "cell_type": "markdown",
      "metadata": {
        "id": "FUgPKwBwe3s-"
      },
      "source": [
        "We can call the above define function as follows:"
      ]
    },
    {
      "cell_type": "code",
      "metadata": {
        "id": "NWBFvN6p9Vho",
        "outputId": "fea0932a-4962-49b2-e3ff-f4f1cd3471c8",
        "colab": {
          "base_uri": "https://localhost:8080/"
        }
      },
      "source": [
        "square(2)"
      ],
      "execution_count": 5,
      "outputs": [
        {
          "output_type": "execute_result",
          "data": {
            "text/plain": [
              "4"
            ]
          },
          "metadata": {},
          "execution_count": 5
        }
      ]
    },
    {
      "cell_type": "markdown",
      "metadata": {
        "id": "2xvV_F489dGr"
      },
      "source": [
        "The function below defines a mathematical operation, which one?\n",
        "\n",
        "$ \\mu = \\frac{1}{N}\\sum_{i=0}^{N-1}x[n]$\n",
        "\n",
        "Next week we will go onto using Python to interact with data to create our own data processing functions\n"
      ]
    }
  ]
}